{
 "cells": [
  {
   "cell_type": "code",
   "execution_count": 3,
   "metadata": {},
   "outputs": [],
   "source": [
    "import pandas as pd\n",
    "import mysql.connector"
   ]
  },
  {
   "cell_type": "code",
   "execution_count": 4,
   "metadata": {},
   "outputs": [],
   "source": [
    "mydb = mysql.connector.connect(\n",
    "    host=\"10.2.1.211\",\n",
    "    port=3306, \n",
    "    user=\"rar\",\n",
    "    password=\"raring\",\n",
    "    database=\"aarsoppgave\"\n",
    ")\n",
    "\n",
    "\n",
    "mycursor = mydb.cursor()"
   ]
  },
  {
   "cell_type": "code",
   "execution_count": 5,
   "metadata": {},
   "outputs": [
    {
     "name": "stdout",
     "output_type": "stream",
     "text": [
      "    userID     username          password\n",
      "0        4          rar            raring\n",
      "1        5     morendin            123abc\n",
      "2        6    morendine           123ee33\n",
      "3        7  morendinasd         aaafd2342\n",
      "4        8       herman          errar123\n",
      "5        9      hermana          errar123\n",
      "6       10  hermansadas          errar123\n",
      "7       11      Joachim        Hertaas123\n",
      "8       12     Joachimf             nono2\n",
      "9       13         erik  heftigcecilie123\n",
      "10      14       august   jontissefant123\n"
     ]
    }
   ],
   "source": [
    "mycursor.execute(\"Select * from users\")\n",
    "\n",
    "myresult = mycursor.fetchall()\n",
    "df = pd.DataFrame(myresult, columns=['userID', 'username', 'password'])\n",
    "print(df)"
   ]
  },
  {
   "cell_type": "code",
   "execution_count": null,
   "metadata": {},
   "outputs": [],
   "source": []
  }
 ],
 "metadata": {
  "kernelspec": {
   "display_name": "Python 3",
   "language": "python",
   "name": "python3"
  },
  "language_info": {
   "codemirror_mode": {
    "name": "ipython",
    "version": 3
   },
   "file_extension": ".py",
   "mimetype": "text/x-python",
   "name": "python",
   "nbconvert_exporter": "python",
   "pygments_lexer": "ipython3",
   "version": "3.10.8"
  },
  "orig_nbformat": 4
 },
 "nbformat": 4,
 "nbformat_minor": 2
}

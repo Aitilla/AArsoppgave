{
 "cells": [
  {
   "cell_type": "code",
   "execution_count": 97,
   "metadata": {},
   "outputs": [],
   "source": [
    "import pandas as pd\n",
    "import mysql.connector"
   ]
  },
  {
   "cell_type": "code",
   "execution_count": 110,
   "metadata": {},
   "outputs": [],
   "source": [
    "mydb = mysql.connector.connect(\n",
    "    host=\"10.226.248.5\",\n",
    "    port=3306,\n",
    "    user=\"rar\",\n",
    "    password=\"raring\",\n",
    "    database=\"aarsoppgave\"\n",
    ")\n",
    "\n",
    "\n"
   ]
  },
  {
   "cell_type": "code",
   "execution_count": 111,
   "metadata": {},
   "outputs": [],
   "source": [
    "\n",
    "mycursor = mydb.cursor()\n",
    "\n",
    "mycursor.execute(\"Select * from engToMorse\")\n",
    "\n",
    "myresult = mycursor.fetchall()\n",
    "dfEng = pd.DataFrame(myresult, columns=['time', 'text', 'translated'])\n"
   ]
  },
  {
   "cell_type": "code",
   "execution_count": 112,
   "metadata": {},
   "outputs": [],
   "source": [
    "mycursor.execute(\"Select * from morseToEng\")\n",
    "\n",
    "myresult = mycursor.fetchall()\n",
    "dfMorse = pd.DataFrame(myresult, columns=['time', 'morse', 'translated'])\n"
   ]
  },
  {
   "cell_type": "code",
   "execution_count": 113,
   "metadata": {},
   "outputs": [],
   "source": [
    "countText = dfEng['text'].value_counts()\n",
    "countMorse = dfMorse['morse'].value_counts()\n",
    "countTranslated = dfEng['translated'].value_counts()"
   ]
  },
  {
   "cell_type": "code",
   "execution_count": 114,
   "metadata": {},
   "outputs": [
    {
     "data": {
      "text/plain": [
       ".... . ..                                                                                                   20\n",
       ".... ...- --- .-. -.. .- -. / --. .- .- .-. / -.. . - / -- . -.. / -.. . --. / .. / -.. .- --. / -.. .-     15\n",
       "..-. -.. ... ..-. -.. ...                                                                                    2\n",
       "-.-- .. ..-                                                                                                  1\n",
       "..-. .--- -.. .-.. -.- ... .--- ..-. .-.. -.- -.. ... .--- ..-. .-..                                         1\n",
       "Name: translated, dtype: int64"
      ]
     },
     "execution_count": 114,
     "metadata": {},
     "output_type": "execute_result"
    }
   ],
   "source": [
    "countTranslated"
   ]
  },
  {
   "cell_type": "code",
   "execution_count": 115,
   "metadata": {},
   "outputs": [
    {
     "data": {
      "text/plain": [
       ".... . .. . .. .. .. .. .. .. .. .. .. .. .. . .. .. .    25\n",
       ".... . ..                                                 16\n",
       "Name: morse, dtype: int64"
      ]
     },
     "execution_count": 115,
     "metadata": {},
     "output_type": "execute_result"
    }
   ],
   "source": [
    "countMorse"
   ]
  },
  {
   "cell_type": "code",
   "execution_count": 118,
   "metadata": {},
   "outputs": [
    {
     "data": {
      "text/plain": [
       "hei                                  20\n",
       "hvordan gaar det med deg i dag da    15\n",
       "fdsfds                                2\n",
       "yiu                                   1\n",
       "fjdlksjflkdsjfl                       1\n",
       "Name: text, dtype: int64"
      ]
     },
     "execution_count": 118,
     "metadata": {},
     "output_type": "execute_result"
    }
   ],
   "source": [
    "countText"
   ]
  },
  {
   "cell_type": "code",
   "execution_count": null,
   "metadata": {},
   "outputs": [],
   "source": []
  }
 ],
 "metadata": {
  "kernelspec": {
   "display_name": "Python 3",
   "language": "python",
   "name": "python3"
  },
  "language_info": {
   "codemirror_mode": {
    "name": "ipython",
    "version": 3
   },
   "file_extension": ".py",
   "mimetype": "text/x-python",
   "name": "python",
   "nbconvert_exporter": "python",
   "pygments_lexer": "ipython3",
   "version": "3.10.8"
  },
  "orig_nbformat": 4
 },
 "nbformat": 4,
 "nbformat_minor": 2
}

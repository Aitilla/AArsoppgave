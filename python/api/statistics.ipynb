{
 "cells": [
  {
   "cell_type": "code",
   "execution_count": 31,
   "metadata": {},
   "outputs": [],
   "source": [
    "import pandas as pd\n",
    "import mysql.connector"
   ]
  },
  {
   "cell_type": "code",
   "execution_count": 32,
   "metadata": {},
   "outputs": [],
   "source": [
    "mydb = mysql.connector.connect(\n",
    "    host=\"10.226.248.5\",\n",
    "    port=3306,\n",
    "    user=\"rar\",\n",
    "    password=\"raring\",\n",
    "    database=\"aarsoppgave\"\n",
    ")\n",
    "\n",
    "\n",
    "mycursor = mydb.cursor()"
   ]
  },
  {
   "cell_type": "code",
   "execution_count": 33,
   "metadata": {},
   "outputs": [],
   "source": [
    "\n",
    "\n",
    "\n",
    "mycursor.execute(\"Select * from engToMorse\")\n",
    "\n",
    "myresult = mycursor.fetchall()\n",
    "dfEng = pd.DataFrame(myresult, columns=['time', 'text', 'translated'])\n"
   ]
  },
  {
   "cell_type": "code",
   "execution_count": 34,
   "metadata": {},
   "outputs": [],
   "source": [
    "\n",
    "mycursor.execute(\"Select * from morseToEng\")\n",
    "\n",
    "myresult = mycursor.fetchall()\n",
    "dfMorse = pd.DataFrame(myresult, columns=['time', 'morse', 'translated'])\n"
   ]
  },
  {
   "cell_type": "code",
   "execution_count": 35,
   "metadata": {},
   "outputs": [],
   "source": [
    "countText = dfEng['text'].value_counts()\n",
    "countMorse = dfMorse['morse'].value_counts()"
   ]
  },
  {
   "cell_type": "code",
   "execution_count": 36,
   "metadata": {},
   "outputs": [
    {
     "data": {
      "text/plain": [
       ".... . .. . .. .. .. .. .. .. .. .. .. .. .. . .. .. .    25\n",
       ".... . ..                                                 16\n",
       "Name: morse, dtype: int64"
      ]
     },
     "execution_count": 36,
     "metadata": {},
     "output_type": "execute_result"
    }
   ],
   "source": [
    "countMorse"
   ]
  },
  {
   "cell_type": "code",
   "execution_count": 37,
   "metadata": {},
   "outputs": [
    {
     "data": {
      "text/plain": [
       "hei                                  20\n",
       "hvordan gaar det med deg i dag da    15\n",
       "hei haa tralala                       8\n",
       "fdsfds                                2\n",
       "yiu                                   1\n",
       "fjdlksjflkdsjfl                       1\n",
       "Name: text, dtype: int64"
      ]
     },
     "execution_count": 37,
     "metadata": {},
     "output_type": "execute_result"
    }
   ],
   "source": [
    "countText"
   ]
  },
  {
   "cell_type": "code",
   "execution_count": null,
   "metadata": {},
   "outputs": [],
   "source": []
  },
  {
   "cell_type": "code",
   "execution_count": null,
   "metadata": {},
   "outputs": [],
   "source": []
  }
 ],
 "metadata": {
  "kernelspec": {
   "display_name": "Python 3",
   "language": "python",
   "name": "python3"
  },
  "language_info": {
   "codemirror_mode": {
    "name": "ipython",
    "version": 3
   },
   "file_extension": ".py",
   "mimetype": "text/x-python",
   "name": "python",
   "nbconvert_exporter": "python",
   "pygments_lexer": "ipython3",
   "version": "3.10.8"
  },
  "orig_nbformat": 4
 },
 "nbformat": 4,
 "nbformat_minor": 2
}
